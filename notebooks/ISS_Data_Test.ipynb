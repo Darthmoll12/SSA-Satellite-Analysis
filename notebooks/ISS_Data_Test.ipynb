{
 "cells": [
  {
   "cell_type": "markdown",
   "id": "e1b624c190831b1d",
   "metadata": {},
   "source": [
    "### Check to make sure we can access the space station satellite data."
   ]
  },
  {
   "cell_type": "code",
   "execution_count": null,
   "id": "initial_id",
   "metadata": {
    "ExecuteTime": {
     "end_time": "2025-09-21T20:25:15.892147Z",
     "start_time": "2025-09-21T20:25:15.175056Z"
    },
    "collapsed": true
   },
   "outputs": [],
   "source": [
    "import requests\n",
    "\n",
    "tle_url = \"https://celestrak.org/NORAD/elements/gp.php?GROUP=stations&FORMAT=tle\"\n",
    "\n",
    "response = requests.get(tle_url)\n",
    "tle_data = response.text\n"
   ]
  },
  {
   "cell_type": "markdown",
   "id": "d149ddf664e46151",
   "metadata": {},
   "source": [
    "### Create nested dictionary of space station TLE data:"
   ]
  },
  {
   "cell_type": "code",
   "execution_count": null,
   "id": "ccf2f93829ed09dc",
   "metadata": {
    "ExecuteTime": {
     "end_time": "2025-09-21T20:26:58.124936Z",
     "start_time": "2025-09-21T20:26:58.113030Z"
    }
   },
   "outputs": [
    {
     "ename": "ValueError",
     "evalue": "invalid literal for int() with base 10: 'TML><'",
     "output_type": "error",
     "traceback": [
      "\u001b[1;31m---------------------------------------------------------------------------\u001b[0m",
      "\u001b[1;31mValueError\u001b[0m                                Traceback (most recent call last)",
      "Cell \u001b[1;32mIn[2], line 73\u001b[0m\n\u001b[0;32m     68\u001b[0m         tle_dict[name] \u001b[38;5;241m=\u001b[39m line_dict\n\u001b[0;32m     70\u001b[0m     \u001b[38;5;28;01mreturn\u001b[39;00m tle_dict\n\u001b[1;32m---> 73\u001b[0m space_station_dict \u001b[38;5;241m=\u001b[39m \u001b[43mtle_to_dict\u001b[49m\u001b[43m(\u001b[49m\u001b[43mtle_data\u001b[49m\u001b[43m)\u001b[49m\n\u001b[0;32m     74\u001b[0m space_station_dict\n",
      "Cell \u001b[1;32mIn[2], line 39\u001b[0m, in \u001b[0;36mtle_to_dict\u001b[1;34m(tle_data)\u001b[0m\n\u001b[0;32m     36\u001b[0m line_dict \u001b[38;5;241m=\u001b[39m {}\n\u001b[0;32m     38\u001b[0m \u001b[38;5;66;03m#Line 1 values\u001b[39;00m\n\u001b[1;32m---> 39\u001b[0m sat_number \u001b[38;5;241m=\u001b[39m \u001b[38;5;28;43mint\u001b[39;49m\u001b[43m(\u001b[49m\u001b[43mline_1\u001b[49m\u001b[43m[\u001b[49m\u001b[38;5;241;43m2\u001b[39;49m\u001b[43m:\u001b[49m\u001b[38;5;241;43m7\u001b[39;49m\u001b[43m]\u001b[49m\u001b[38;5;241;43m.\u001b[39;49m\u001b[43mstrip\u001b[49m\u001b[43m(\u001b[49m\u001b[43m)\u001b[49m\u001b[43m)\u001b[49m\n\u001b[0;32m     40\u001b[0m classification \u001b[38;5;241m=\u001b[39m line_1[\u001b[38;5;241m7\u001b[39m]\n\u001b[0;32m     41\u001b[0m Int_designation \u001b[38;5;241m=\u001b[39m line_1[\u001b[38;5;241m9\u001b[39m:\u001b[38;5;241m17\u001b[39m]\n",
      "\u001b[1;31mValueError\u001b[0m: invalid literal for int() with base 10: 'TML><'"
     ]
    }
   ],
   "source": [
    "from datetime import datetime, timedelta\n",
    "\n",
    "\n",
    "def tle_notation_to_float(s):\n",
    "    s = s.strip()\n",
    "    if not s or s == \"00000+0\":\n",
    "        return 0.0\n",
    "    base, exp = s[:-2], s[-2:]\n",
    "    base = \"0\" + \".\" + base\n",
    "    return float(f\"{base}e{exp}\")\n",
    "\n",
    "\n",
    "def epoch_to_datetime(epoch):\n",
    "    year = int(epoch[0:2])\n",
    "    day_of_year = float(epoch[2:])\n",
    "    year += 2000 if year < 57 else 1900\n",
    "\n",
    "    epoch_base = datetime(year, 1, 1)\n",
    "\n",
    "    epoch_datetime = epoch_base + timedelta(days=day_of_year - 1)\n",
    "\n",
    "    return epoch_datetime\n",
    "\n",
    "\n",
    "def tle_to_dict(tle_data):\n",
    "    \"\"\"\n",
    "    Parses a tle sattelite dataset into a python dictionary.\n",
    "    :param tle_data:\n",
    "    :return: dictionary\n",
    "    \"\"\"\n",
    "    tle_data_split = tle_data.strip().split(\"\\n\")\n",
    "    tle_data_stripped = [line.strip() for line in tle_data_split]\n",
    "\n",
    "    tle_list = []\n",
    "    line_list = []\n",
    "\n",
    "\n",
    "    for line in tle_data_stripped:\n",
    "        line_list.append(line)\n",
    "        if len(line_list) == 3:\n",
    "            tle_list.append(line_list)\n",
    "            line_list = []\n",
    "\n",
    "    tle_dict = {}\n",
    "\n",
    "    for sat in tle_list:\n",
    "        name = sat[0]\n",
    "        line_1 = sat[1]\n",
    "        line_2 = sat[2]\n",
    "        line_dict = {}\n",
    "\n",
    "        #Line 1 values\n",
    "        sat_number = int(line_1[2:7].strip())\n",
    "        classification = line_1[7]\n",
    "        Int_designation = line_1[9:17]\n",
    "        epoch = epoch_to_datetime(line_1[18:32])\n",
    "        first_derivative_of_mean_motion = float(line_1[33:43])\n",
    "        second_derivative_of_mean_motion = tle_notation_to_float(line_1[44:52])\n",
    "        bstar_drag_term = tle_notation_to_float(line_1[53:61])\n",
    "        ephemeris_type = int(line_1[62])\n",
    "        element_set_number = int(line_1[64:68])\n",
    "        checksum_1 = int(line_1[68])\n",
    "\n",
    "        #Line 2 values\n",
    "        sat_number_2 = int(line_2[2:7].strip())\n",
    "        inclination = float(line_2[8:16])\n",
    "        raan = float(line_2[17:25])\n",
    "        eccentricity = float(\".\" + line_2[26:33].strip())\n",
    "        perigee = float(line_2[34:42])\n",
    "        mean_anomaly = float(line_2[43:51])\n",
    "        mean_motion = float(line_2[52:63])\n",
    "        revolution_number = int(line_2[63:68])\n",
    "        checksum_2 = int(line_2[68])\n",
    "\n",
    "        line_dict[\"Line1\"] = {\"satellite number\": sat_number, \"classification\": classification, \"international designator\": Int_designation, \"epoch\": epoch,\n",
    "                              \"first derivative of mean motion\": first_derivative_of_mean_motion, \"second derivative of mean motion\": second_derivative_of_mean_motion,\n",
    "                              \"BSTAR drag term\": bstar_drag_term, \"ephemeris type\": ephemeris_type, \"element set number\": element_set_number, \"checksum 1\": checksum_1}\n",
    "\n",
    "        line_dict[\"Line2\"] = {\"satellite number\": sat_number_2, \"inclination\": inclination, \"RAAN\": raan, \"eccentricity\": eccentricity, \"perigee\": perigee,\n",
    "                              \"mean anomaly\": mean_anomaly, \"mean motion\": mean_motion, \"revolution number\": revolution_number, \"checksum 2\": checksum_2}\n",
    "\n",
    "        tle_dict[name] = line_dict\n",
    "\n",
    "    return tle_dict\n",
    "\n",
    "\n",
    "space_station_dict = tle_to_dict(tle_data)\n",
    "space_station_dict"
   ]
  },
  {
   "cell_type": "markdown",
   "id": "5c11a667",
   "metadata": {},
   "source": [
    "### Import the SGP4 Propagotor library and propagate the ISS orbit:"
   ]
  },
  {
   "cell_type": "code",
   "execution_count": null,
   "id": "94ee5731",
   "metadata": {},
   "outputs": [],
   "source": [
    "import sgp4\n",
    "\n",
    "from sgp4.api import Satrec, SatrecArray\n",
    "from sgp4.api import WGS72\n",
    "\n",
    "\n",
    "\n"
   ]
  }
 ],
 "metadata": {
  "kernelspec": {
   "display_name": ".venv",
   "language": "python",
   "name": "python3"
  },
  "language_info": {
   "codemirror_mode": {
    "name": "ipython",
    "version": 3
   },
   "file_extension": ".py",
   "mimetype": "text/x-python",
   "name": "python",
   "nbconvert_exporter": "python",
   "pygments_lexer": "ipython3",
   "version": "3.10.8"
  }
 },
 "nbformat": 4,
 "nbformat_minor": 5
}
